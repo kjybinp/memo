{
 "cells": [
  {
   "cell_type": "code",
   "execution_count": 36,
   "metadata": {},
   "outputs": [
    {
     "name": "stdout",
     "output_type": "stream",
     "text": [
      "train_00.json 1256\n",
      "train_01.json 259\n",
      "train_02.json 59\n",
      "train_03.json 584\n",
      "train_04.json 152\n",
      "train_05.json 37\n",
      "train_06.json 238\n",
      "train_07.json 1184\n",
      "train_08.json 245\n",
      "train_09.json 46\n",
      "train_10.json 1311\n",
      "train_11.json 263\n",
      "train_12.json 57\n",
      "train_13.json 1127\n",
      "train_14.json 275\n",
      "train_15.json 87\n",
      "train_16.json 305\n",
      "train_17.json 1316\n",
      "train_18.json 105\n",
      "train_19.json 75\n"
     ]
    }
   ],
   "source": [
    "import json\n",
    "import os\n",
    "import matplotlib.pyplot as plt\n",
    "import numpy as np\n",
    "from PIL import Image\n",
    "\n",
    "Image.MAX_IMAGE_PIXELS = 1000000000\n",
    "\n",
    "for i in range(20) :\n",
    "    file = 'train_'+ str(i).zfill(2) +'.json'\n",
    "    f = open('train_annotations/' + file)\n",
    "    json_dict = json.load(f)\n",
    "    print(file,len(json_dict['labels']))\n",
    "    file = 'train_'+ str(i).zfill(2) +'.jpg'\n",
    "    #f = open('train_images/' + file)\n",
    "    img = Image.open('train_images/' + file)\n",
    "    img = img.resize([500,500])\n",
    "    #plt.imshow(img)\n",
    "    #plt.show()\n",
    "    "
   ]
  },
  {
   "cell_type": "code",
   "execution_count": 14,
   "metadata": {},
   "outputs": [
    {
     "name": "stdout",
     "output_type": "stream",
     "text": [
      "(12194, 13752, 3)\n",
      "676\n"
     ]
    }
   ],
   "source": [
    "L = 416\n",
    "\n",
    "i = 0\n",
    "file = 'train_'+ str(i).zfill(2) +'.jpg'\n",
    "img = np.array(Image.open('train_images/' + file))\n",
    "imgs = []\n",
    "print(img.shape)\n",
    "for i in range(int(img.shape[0]/L)):\n",
    "    for j in range(int(img.shape[1]/L)):\n",
    "        s_img = img[i*L:(i+1)*L,j*L:(j+1)*L,:]\n",
    "        if np.sum(s_img)>0:\n",
    "            s_img = Image.fromarray(s_img)\n",
    "            imgs.append(s_img)\n",
    "            #plt.imshow(s_img)\n",
    "            #plt.show()\n",
    "print(len(imgs))"
   ]
  },
  {
   "cell_type": "code",
   "execution_count": 34,
   "metadata": {},
   "outputs": [
    {
     "name": "stdout",
     "output_type": "stream",
     "text": [
      "[-1, -1, 1]\n",
      "[18, 18, 1]\n",
      "[18, 18, 1]\n",
      "[18, 18, 1]\n",
      "[18, 18, 1]\n",
      "[18, 18, 1]\n",
      "[18, 18, 1]\n",
      "[18, 18, 1]\n",
      "[18, 18, 1]\n",
      "[17, 17, 1]\n"
     ]
    }
   ],
   "source": [
    "import json\n",
    "\n",
    "L = 416\n",
    "\n",
    "def fd(d):\n",
    "    result = []\n",
    "    b = d['box2d']\n",
    "    if (int(b['x1']/L)==int(b['x2']/L)and(int(b['y1']/L)==int(b['y2']/L))):\n",
    "        result.append(int(b['x1']/L))\n",
    "        result.append(int(b['x1']/L))\n",
    "    else:\n",
    "        result.append(-1)\n",
    "        result.append(-1)\n",
    "    cls_dic = {'ship_moving':0,'ship_not_moving':1,'barge':2}\n",
    "    result.append(cls_dic[d['category']])\n",
    "    return result\n",
    "\n",
    "i = 0\n",
    "file = 'train_'+ str(i).zfill(2) +'.json'\n",
    "f = open('train_annotations/' + file)\n",
    "json_dict = json.load(f)\n",
    "#print(json_dict['labels'][0])\n",
    "for i in range(10):\n",
    "    print(fd(json_dict['labels'][i]))\n",
    "\n"
   ]
  },
  {
   "cell_type": "code",
   "execution_count": 22,
   "metadata": {},
   "outputs": [
    {
     "name": "stdout",
     "output_type": "stream",
     "text": [
      "{'category': 'ship_not_moving', 'box2d': {'x1': 7814, 'y1': 3682, 'x2': 7839, 'y2': 3745}}\n",
      "{'category': 'ship_not_moving', 'box2d': {'x1': 7791, 'y1': 3595, 'x2': 7805, 'y2': 3633}}\n",
      "{'category': 'ship_not_moving', 'box2d': {'x1': 7791, 'y1': 3694, 'x2': 7802, 'y2': 3731}}\n",
      "{'category': 'ship_not_moving', 'box2d': {'x1': 7784, 'y1': 3791, 'x2': 7795, 'y2': 3810}}\n",
      "{'category': 'ship_not_moving', 'box2d': {'x1': 7803, 'y1': 3777, 'x2': 7819, 'y2': 3821}}\n",
      "{'category': 'ship_not_moving', 'box2d': {'x1': 7781, 'y1': 3710, 'x2': 7788, 'y2': 3722}}\n",
      "{'category': 'ship_not_moving', 'box2d': {'x1': 7787, 'y1': 3717, 'x2': 7793, 'y2': 3727}}\n",
      "{'category': 'ship_not_moving', 'box2d': {'x1': 7586, 'y1': 7639, 'x2': 7609, 'y2': 7666}}\n",
      "{'category': 'ship_not_moving', 'box2d': {'x1': 7488, 'y1': 7680, 'x2': 7508, 'y2': 7694}}\n",
      "{'category': 'ship_not_moving', 'box2d': {'x1': 7465, 'y1': 8020, 'x2': 7482, 'y2': 8052}}\n",
      "{'category': 'barge', 'box2d': {'x1': 7418, 'y1': 7937, 'x2': 7468, 'y2': 8033}}\n",
      "{'category': 'ship_moving', 'box2d': {'x1': 8763, 'y1': 6803, 'x2': 8781, 'y2': 6829}}\n",
      "{'category': 'barge', 'box2d': {'x1': 8808, 'y1': 4023, 'x2': 8853, 'y2': 4102}}\n",
      "{'category': 'barge', 'box2d': {'x1': 9706, 'y1': 11102, 'x2': 9785, 'y2': 11165}}\n",
      "{'category': 'unknown', 'box2d': {'x1': 9054, 'y1': 3996, 'x2': 9065, 'y2': 4012}}\n",
      "{'category': 'barge', 'box2d': {'x1': 8833, 'y1': 3877, 'x2': 8869, 'y2': 3985}}\n",
      "{'category': 'barge', 'box2d': {'x1': 8862, 'y1': 3790, 'x2': 8899, 'y2': 3861}}\n",
      "{'category': 'unknown', 'box2d': {'x1': 10505, 'y1': 11408, 'x2': 10612, 'y2': 11453}}\n",
      "{'category': 'barge', 'box2d': {'x1': 229, 'y1': 6533, 'x2': 255, 'y2': 6558}}\n",
      "{'category': 'ship_not_moving', 'box2d': {'x1': 43, 'y1': 8330, 'x2': 110, 'y2': 8389}}\n",
      "{'category': 'unknown', 'box2d': {'x1': 393, 'y1': 5450, 'x2': 407, 'y2': 5459}}\n",
      "{'category': 'ship_not_moving', 'box2d': {'x1': 443, 'y1': 5452, 'x2': 484, 'y2': 5466}}\n",
      "{'category': 'ship_not_moving', 'box2d': {'x1': 880, 'y1': 9253, 'x2': 894, 'y2': 9269}}\n",
      "{'category': 'unknown', 'box2d': {'x1': 901, 'y1': 9511, 'x2': 919, 'y2': 9528}}\n",
      "{'category': 'ship_not_moving', 'box2d': {'x1': 807, 'y1': 10139, 'x2': 828, 'y2': 10179}}\n",
      "{'category': 'ship_moving', 'box2d': {'x1': 1146, 'y1': 11517, 'x2': 1190, 'y2': 11565}}\n",
      "{'category': 'ship_not_moving', 'box2d': {'x1': 1426, 'y1': 10861, 'x2': 1541, 'y2': 10888}}\n",
      "{'category': 'ship_not_moving', 'box2d': {'x1': 1938, 'y1': 5448, 'x2': 1956, 'y2': 5459}}\n",
      "{'category': 'ship_not_moving', 'box2d': {'x1': 1902, 'y1': 5454, 'x2': 1918, 'y2': 5463}}\n",
      "{'category': 'ship_not_moving', 'box2d': {'x1': 1919, 'y1': 5460, 'x2': 1934, 'y2': 5467}}\n",
      "{'category': 'unknown', 'box2d': {'x1': 1621, 'y1': 6435, 'x2': 1686, 'y2': 6452}}\n",
      "{'category': 'ship_not_moving', 'box2d': {'x1': 1627, 'y1': 7105, 'x2': 1652, 'y2': 7135}}\n",
      "{'category': 'ship_not_moving', 'box2d': {'x1': 1670, 'y1': 7081, 'x2': 1686, 'y2': 7098}}\n",
      "{'category': 'ship_not_moving', 'box2d': {'x1': 1699, 'y1': 7048, 'x2': 1729, 'y2': 7079}}\n",
      "{'category': 'unknown', 'box2d': {'x1': 1733, 'y1': 7035, 'x2': 1743, 'y2': 7048}}\n",
      "{'category': 'ship_not_moving', 'box2d': {'x1': 1756, 'y1': 7014, 'x2': 1771, 'y2': 7029}}\n",
      "{'category': 'ship_not_moving', 'box2d': {'x1': 1772, 'y1': 6999, 'x2': 1788, 'y2': 7010}}\n",
      "{'category': 'ship_not_moving', 'box2d': {'x1': 1776, 'y1': 7006, 'x2': 1792, 'y2': 7019}}\n",
      "{'category': 'ship_not_moving', 'box2d': {'x1': 1792, 'y1': 6983, 'x2': 1806, 'y2': 6999}}\n",
      "{'category': 'barge', 'box2d': {'x1': 1830, 'y1': 7782, 'x2': 1871, 'y2': 7797}}\n",
      "{'category': 'barge', 'box2d': {'x1': 1901, 'y1': 7774, 'x2': 1951, 'y2': 7791}}\n",
      "{'category': 'ship_not_moving', 'box2d': {'x1': 1598, 'y1': 10845, 'x2': 1730, 'y2': 10867}}\n",
      "{'category': 'barge', 'box2d': {'x1': 1662, 'y1': 11279, 'x2': 1677, 'y2': 11336}}\n",
      "{'category': 'barge', 'box2d': {'x1': 1680, 'y1': 11282, 'x2': 1694, 'y2': 11336}}\n",
      "{'category': 'barge', 'box2d': {'x1': 1696, 'y1': 11284, 'x2': 1712, 'y2': 11334}}\n",
      "{'category': 'barge', 'box2d': {'x1': 1616, 'y1': 11349, 'x2': 1626, 'y2': 11382}}\n",
      "{'category': 'barge', 'box2d': {'x1': 1630, 'y1': 11346, 'x2': 1643, 'y2': 11380}}\n",
      "{'category': 'barge', 'box2d': {'x1': 1646, 'y1': 11344, 'x2': 1661, 'y2': 11380}}\n",
      "{'category': 'barge', 'box2d': {'x1': 1664, 'y1': 11343, 'x2': 1682, 'y2': 11392}}\n",
      "{'category': 'barge', 'box2d': {'x1': 1685, 'y1': 11342, 'x2': 1697, 'y2': 11393}}\n",
      "{'category': 'barge', 'box2d': {'x1': 1615, 'y1': 11387, 'x2': 1645, 'y2': 11451}}\n",
      "{'category': 'barge', 'box2d': {'x1': 1648, 'y1': 11387, 'x2': 1664, 'y2': 11429}}\n",
      "{'category': 'barge', 'box2d': {'x1': 1650, 'y1': 11434, 'x2': 1668, 'y2': 11465}}\n",
      "{'category': 'barge', 'box2d': {'x1': 1752, 'y1': 11278, 'x2': 1784, 'y2': 11326}}\n",
      "{'category': 'barge', 'box2d': {'x1': 1742, 'y1': 11342, 'x2': 1766, 'y2': 11411}}\n",
      "{'category': 'barge', 'box2d': {'x1': 1767, 'y1': 11357, 'x2': 1786, 'y2': 11419}}\n",
      "{'category': 'barge', 'box2d': {'x1': 1789, 'y1': 11352, 'x2': 1802, 'y2': 11414}}\n",
      "{'category': 'barge', 'box2d': {'x1': 1751, 'y1': 11418, 'x2': 1774, 'y2': 11485}}\n",
      "{'category': 'barge', 'box2d': {'x1': 1776, 'y1': 11425, 'x2': 1789, 'y2': 11485}}\n",
      "{'category': 'barge', 'box2d': {'x1': 1790, 'y1': 11418, 'x2': 1803, 'y2': 11450}}\n",
      "{'category': 'barge', 'box2d': {'x1': 1794, 'y1': 11450, 'x2': 1809, 'y2': 11489}}\n",
      "{'category': 'barge', 'box2d': {'x1': 1804, 'y1': 11414, 'x2': 1817, 'y2': 11449}}\n",
      "{'category': 'barge', 'box2d': {'x1': 1846, 'y1': 11273, 'x2': 1867, 'y2': 11322}}\n",
      "{'category': 'barge', 'box2d': {'x1': 1852, 'y1': 11331, 'x2': 1873, 'y2': 11376}}\n",
      "{'category': 'barge', 'box2d': {'x1': 1851, 'y1': 11380, 'x2': 1875, 'y2': 11422}}\n",
      "{'category': 'barge', 'box2d': {'x1': 1860, 'y1': 11427, 'x2': 1880, 'y2': 11476}}\n",
      "{'category': 'barge', 'box2d': {'x1': 1873, 'y1': 11286, 'x2': 1887, 'y2': 11337}}\n",
      "{'category': 'barge', 'box2d': {'x1': 1889, 'y1': 11273, 'x2': 1905, 'y2': 11305}}\n",
      "{'category': 'ship_not_moving', 'box2d': {'x1': 1893, 'y1': 11308, 'x2': 1905, 'y2': 11334}}\n",
      "{'category': 'barge', 'box2d': {'x1': 1878, 'y1': 11377, 'x2': 1896, 'y2': 11429}}\n",
      "{'category': 'ship_not_moving', 'box2d': {'x1': 1917, 'y1': 11317, 'x2': 1927, 'y2': 11348}}\n",
      "{'category': 'ship_not_moving', 'box2d': {'x1': 1928, 'y1': 11314, 'x2': 1934, 'y2': 11342}}\n",
      "{'category': 'barge', 'box2d': {'x1': 1949, 'y1': 11364, 'x2': 1975, 'y2': 11403}}\n",
      "{'category': 'barge', 'box2d': {'x1': 1956, 'y1': 11408, 'x2': 1978, 'y2': 11446}}\n",
      "{'category': 'barge', 'box2d': {'x1': 1933, 'y1': 11308, 'x2': 1952, 'y2': 11343}}\n",
      "{'category': 'unknown', 'box2d': {'x1': 1949, 'y1': 11297, 'x2': 1962, 'y2': 11339}}\n",
      "{'category': 'barge', 'box2d': {'x1': 1508, 'y1': 11633, 'x2': 1536, 'y2': 11716}}\n",
      "{'category': 'barge', 'box2d': {'x1': 1525, 'y1': 11631, 'x2': 1553, 'y2': 11714}}\n",
      "{'category': 'barge', 'box2d': {'x1': 1546, 'y1': 11631, 'x2': 1574, 'y2': 11714}}\n",
      "{'category': 'barge', 'box2d': {'x1': 1566, 'y1': 11629, 'x2': 1594, 'y2': 11712}}\n",
      "{'category': 'barge', 'box2d': {'x1': 1511, 'y1': 11721, 'x2': 1601, 'y2': 11733}}\n",
      "{'category': 'barge', 'box2d': {'x1': 1515, 'y1': 11737, 'x2': 1605, 'y2': 11749}}\n",
      "{'category': 'barge', 'box2d': {'x1': 1520, 'y1': 11759, 'x2': 1610, 'y2': 11771}}\n",
      "{'category': 'barge', 'box2d': {'x1': 1599, 'y1': 11638, 'x2': 1612, 'y2': 11700}}\n",
      "{'category': 'barge', 'box2d': {'x1': 1621, 'y1': 11638, 'x2': 1634, 'y2': 11700}}\n",
      "{'category': 'barge', 'box2d': {'x1': 1776, 'y1': 11615, 'x2': 1794, 'y2': 11686}}\n",
      "{'category': 'barge', 'box2d': {'x1': 1822, 'y1': 11610, 'x2': 1840, 'y2': 11681}}\n",
      "{'category': 'barge', 'box2d': {'x1': 1801, 'y1': 11610, 'x2': 1819, 'y2': 11681}}\n",
      "{'category': 'unknown', 'box2d': {'x1': 1601, 'y1': 11704, 'x2': 1631, 'y2': 11728}}\n",
      "{'category': 'barge', 'box2d': {'x1': 1963, 'y1': 11592, 'x2': 1975, 'y2': 11653}}\n",
      "{'category': 'barge', 'box2d': {'x1': 1947, 'y1': 11592, 'x2': 1961, 'y2': 11651}}\n",
      "{'category': 'barge', 'box2d': {'x1': 1931, 'y1': 11605, 'x2': 1943, 'y2': 11653}}\n",
      "{'category': 'barge', 'box2d': {'x1': 1914, 'y1': 11606, 'x2': 1926, 'y2': 11654}}\n",
      "{'category': 'barge', 'box2d': {'x1': 1897, 'y1': 11607, 'x2': 1910, 'y2': 11664}}\n",
      "{'category': 'barge', 'box2d': {'x1': 1879, 'y1': 11615, 'x2': 1897, 'y2': 11675}}\n",
      "{'category': 'barge', 'box2d': {'x1': 1707, 'y1': 11708, 'x2': 1729, 'y2': 11758}}\n",
      "{'category': 'barge', 'box2d': {'x1': 1745, 'y1': 11771, 'x2': 1778, 'y2': 11843}}\n",
      "{'category': 'barge', 'box2d': {'x1': 1729, 'y1': 11705, 'x2': 1751, 'y2': 11755}}\n",
      "{'category': 'barge', 'box2d': {'x1': 1749, 'y1': 11705, 'x2': 1766, 'y2': 11744}}\n",
      "{'category': 'barge', 'box2d': {'x1': 1765, 'y1': 11700, 'x2': 1784, 'y2': 11743}}\n"
     ]
    }
   ],
   "source": [
    "for i in range(100):\n",
    "    print(json_dict['labels'][i])"
   ]
  },
  {
   "cell_type": "code",
   "execution_count": 35,
   "metadata": {},
   "outputs": [
    {
     "ename": "FileNotFoundError",
     "evalue": "[Errno 2] No such file or directory: 'COCO_train2014_000000000049.jpg'",
     "output_type": "error",
     "traceback": [
      "\u001b[0;31m---------------------------------------------------------------------------\u001b[0m",
      "\u001b[0;31mFileNotFoundError\u001b[0m                         Traceback (most recent call last)",
      "\u001b[0;32m<ipython-input-35-ae6380484e08>\u001b[0m in \u001b[0;36m<module>\u001b[0;34m()\u001b[0m\n\u001b[1;32m      2\u001b[0m \u001b[0;32mfrom\u001b[0m \u001b[0mPIL\u001b[0m \u001b[0;32mimport\u001b[0m \u001b[0mImage\u001b[0m\u001b[0;34m,\u001b[0m\u001b[0mImageDraw\u001b[0m\u001b[0;34m\u001b[0m\u001b[0m\n\u001b[1;32m      3\u001b[0m \u001b[0;34m\u001b[0m\u001b[0m\n\u001b[0;32m----> 4\u001b[0;31m \u001b[0mimg\u001b[0m \u001b[0;34m=\u001b[0m \u001b[0mImage\u001b[0m\u001b[0;34m.\u001b[0m\u001b[0mopen\u001b[0m\u001b[0;34m(\u001b[0m\u001b[0;34m'COCO_train2014_000000000049.jpg'\u001b[0m\u001b[0;34m)\u001b[0m\u001b[0;34m\u001b[0m\u001b[0m\n\u001b[0m\u001b[1;32m      5\u001b[0m \u001b[0mimg\u001b[0m \u001b[0;34m=\u001b[0m \u001b[0mimg\u001b[0m\u001b[0;34m.\u001b[0m\u001b[0mresize\u001b[0m\u001b[0;34m(\u001b[0m\u001b[0;34m[\u001b[0m\u001b[0;36m414\u001b[0m\u001b[0;34m,\u001b[0m\u001b[0;36m414\u001b[0m\u001b[0;34m]\u001b[0m\u001b[0;34m)\u001b[0m\u001b[0;34m\u001b[0m\u001b[0m\n\u001b[1;32m      6\u001b[0m \u001b[0mdraw\u001b[0m \u001b[0;34m=\u001b[0m \u001b[0mImageDraw\u001b[0m\u001b[0;34m.\u001b[0m\u001b[0mDraw\u001b[0m\u001b[0;34m(\u001b[0m\u001b[0mimg\u001b[0m\u001b[0;34m)\u001b[0m\u001b[0;34m\u001b[0m\u001b[0m\n",
      "\u001b[0;32m~/anaconda3/lib/python3.7/site-packages/PIL/Image.py\u001b[0m in \u001b[0;36mopen\u001b[0;34m(fp, mode)\u001b[0m\n\u001b[1;32m   2578\u001b[0m \u001b[0;34m\u001b[0m\u001b[0m\n\u001b[1;32m   2579\u001b[0m     \u001b[0;32mif\u001b[0m \u001b[0mfilename\u001b[0m\u001b[0;34m:\u001b[0m\u001b[0;34m\u001b[0m\u001b[0m\n\u001b[0;32m-> 2580\u001b[0;31m         \u001b[0mfp\u001b[0m \u001b[0;34m=\u001b[0m \u001b[0mbuiltins\u001b[0m\u001b[0;34m.\u001b[0m\u001b[0mopen\u001b[0m\u001b[0;34m(\u001b[0m\u001b[0mfilename\u001b[0m\u001b[0;34m,\u001b[0m \u001b[0;34m\"rb\"\u001b[0m\u001b[0;34m)\u001b[0m\u001b[0;34m\u001b[0m\u001b[0m\n\u001b[0m\u001b[1;32m   2581\u001b[0m         \u001b[0mexclusive_fp\u001b[0m \u001b[0;34m=\u001b[0m \u001b[0;32mTrue\u001b[0m\u001b[0;34m\u001b[0m\u001b[0m\n\u001b[1;32m   2582\u001b[0m \u001b[0;34m\u001b[0m\u001b[0m\n",
      "\u001b[0;31mFileNotFoundError\u001b[0m: [Errno 2] No such file or directory: 'COCO_train2014_000000000049.jpg'"
     ]
    }
   ],
   "source": [
    "import matplotlib.pyplot as plt\n",
    "from PIL import Image,ImageDraw\n",
    "\n",
    "img = Image.open('COCO_train2014_000000000049.jpg')\n",
    "img = img.resize([414,414])\n",
    "draw = ImageDraw.Draw(img)\n",
    "\n",
    "f = open('COCO_train2014_000000000049.txt')\n",
    "text = f.read()\n",
    "for s in text.split('\\n'):\n",
    "    if s!='':\n",
    "        v = s.split(' ')\n",
    "        draw.rectangle(((int(float(v[1])*414))-(int(float(v[3])*414*0.5)),(int(float(v[2])*414))-(int(float(v[4])*414*0.5)),\\\n",
    "                        (int(float(v[1])*414))+(int(float(v[3])*414*0.5)),(int(float(v[2])*414))+(int(float(v[4])*414*0.5))),outline=(0,0,0))\n",
    "print(text)\n",
    "plt.figure(figsize=(10,10))\n",
    "plt.imshow(img)\n",
    "plt.show()"
   ]
  },
  {
   "cell_type": "code",
   "execution_count": null,
   "metadata": {},
   "outputs": [],
   "source": []
  }
 ],
 "metadata": {
  "kernelspec": {
   "display_name": "Python 3",
   "language": "python",
   "name": "python3"
  },
  "language_info": {
   "codemirror_mode": {
    "name": "ipython",
    "version": 3
   },
   "file_extension": ".py",
   "mimetype": "text/x-python",
   "name": "python",
   "nbconvert_exporter": "python",
   "pygments_lexer": "ipython3",
   "version": "3.7.0"
  }
 },
 "nbformat": 4,
 "nbformat_minor": 2
}
